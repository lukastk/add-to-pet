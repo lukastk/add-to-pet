{
    "cells": [
        {
            "cell_type": "markdown",
            "id": "1963c95c",
            "metadata": {},
            "source": [
                "# add-to-pet"
            ]
        },
        {
            "cell_type": "code",
            "execution_count": null,
            "id": "0921e7e9",
            "metadata": {},
            "outputs": [],
            "source": [
                "#|hide\n",
                "import nblite; from nbdev.showdoc import show_doc; nblite.nbl_export()"
            ]
        },
        {
            "cell_type": "code",
            "execution_count": null,
            "id": "a8cd86ed",
            "metadata": {},
            "outputs": [],
            "source": [
                "#|hide\n",
                "import add_to_pet as proj"
            ]
        },
        {
            "cell_type": "markdown",
            "id": "68d44485",
            "metadata": {},
            "source": [
                "Simple CLI utility to add commands to [`pet`](https://github.com/knqyf263/pet) idempotently."
            ]
        },
        {
            "cell_type": "markdown",
            "id": "19e78a5d",
            "metadata": {},
            "source": [
                "# Installation\n",
                "\n",
                "```bash\n",
                "pip install \"git+https://github.com/astral-sh/ruff\"\n",
                "```\n",
                "\n",
                "Using `uv`:\n",
                "\n",
                "```bash\n",
                "uvx --from git+https://github.com/lukastk/add-to-pet.git \n",
                "```"
            ]
        },
        {
            "cell_type": "markdown",
            "id": "cf0e151f",
            "metadata": {},
            "source": [
                "# Usage\n",
                "\n",
                "To use `add-to-pet` you must first install [`pet`](https://github.com/knqyf263/pet).\n",
                "\n",
                "## CLI\n",
                "\n",
                "```bash\n",
                "add-to-pet \"echo 'Hello world'\" -d \"Display 'Hello world'\" -t \"a-tag\" -t \"another-tag\"\n",
                "```\n",
                "\n",
                "To see a list of all available options:\n",
                "\n",
                "```bash\n",
                "add-to-pet --help\n",
                "```\n",
                "\n",
                "## Module\n",
                "\n",
                "```python\n",
                "from add_to_pet import add_to_pet\n",
                "\n",
                "add_to_pet(\n",
                "    cmd=\"echo 'Hello world'\",\n",
                "    description=\"Display 'Hello world'\",\n",
                "    tags=[\"a-tag\", \"another-tag\"]\n",
                ")\n",
                "```\n",
                "\n",
                "## Standalone script\n",
                "\n",
                "Modify and run this script using [`uv`](https://docs.astral.sh/uv/) as follows:\n",
                "\n",
                "```\n",
                "uv run add_to_pet_example.py\n",
                "```\n",
                "\n",
                "The dependencies are all declared in the inline script metadata."
            ]
        }
    ],
    "metadata": {
        "jupytext": {
            "cell_metadata_filter": "-all",
            "main_language": "python",
            "notebook_metadata_filter": "-all"
        },
        "kernelspec": {
            "display_name": ".venv",
            "language": "python",
            "name": "python3"
        },
        "language_info": {
            "codemirror_mode": {
                "name": "ipython",
                "version": 3
            },
            "file_extension": ".py",
            "mimetype": "text/x-python",
            "name": "python",
            "nbconvert_exporter": "python",
            "pygments_lexer": "ipython3",
            "version": "3.11.11"
        },
        "nblite_source_hash": "e04abcaa107b2291ba95593266e9f1a037b9bcd2cb90522a0714d8cdf8cacc6a"
    },
    "nbformat": 4,
    "nbformat_minor": 5
}