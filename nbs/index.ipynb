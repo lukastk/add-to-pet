{
    "cells": [
        {
            "cell_type": "markdown",
            "id": "1963c95c",
            "metadata": {},
            "source": [
                "# add-to-pet"
            ]
        },
        {
            "cell_type": "code",
            "execution_count": null,
            "id": "0921e7e9",
            "metadata": {},
            "outputs": [],
            "source": [
                "#|hide\n",
                "import nblite; from nbdev.showdoc import show_doc; nblite.nbl_export()"
            ]
        },
        {
            "cell_type": "code",
            "execution_count": null,
            "id": "a8cd86ed",
            "metadata": {},
            "outputs": [],
            "source": [
                "#|hide\n",
                "import add_to_pet as proj"
            ]
        },
        {
            "cell_type": "markdown",
            "id": "cf0e151f",
            "metadata": {},
            "source": [
                "# Usage\n",
                "\n",
                "To run all all scripts in `core` in sequence, run\n",
                "\n",
                "```python\n",
                "add_to_pet.core.run_all()\n",
                "```\n",
                "\n",
                "from within Python, or\n",
                "\n",
                "```\n",
                "add-to-pet run-core\n",
                "```\n",
                "\n",
                "from the terminal."
            ]
        },
        {
            "cell_type": "markdown",
            "id": "ace02ff3",
            "metadata": {},
            "source": [
                "# Development install instructions\n",
                "\n",
                "## Prerequisites\n",
                "\n",
                "- Install [uv](https://docs.astral.sh/uv/getting-started/installation/).\n",
                "- Install [direnv](https://direnv.net/) to automatically load the project virtual environment when entering it.\n",
                "    - Mac: `brew install direnv`\n",
                "    - Linux: `curl -sfL https://direnv.net/install.sh | bash`\n",
                "\n",
                "## Setting up the environment\n",
                "\n",
                "Run the following:\n",
                "\n",
                "```bash\n",
                "# In the root of the repo folder\n",
                "uv sync # Installs the virtual environment at './.venv'\n",
                "direnv allow # Allows the automatic running of the script './.envrc'\n",
                "nbl install-hooks # Installs a git hooks that ensures that notebooks are added properly\n",
                "```\n",
                "\n",
                "You are now set up to develop the codebase.\n",
                "\n",
                "Further instructions:\n",
                "\n",
                "- To export notebooks run `nbl export`.\n",
                "- To clean notebooks run `nbl clean`.\n",
                "- To see other available commands run just `nbl`.\n",
                "- To add a new dependency run `uv add package-name`. See the the [uv documentation](https://docs.astral.sh/uv/) for more details.\n",
                "- You need to `git add` all 'twinned' notebooks for the commit to be validated by the git-hook. For example, if you add `nbs/my-nb.ipynb`, you must also add `pts/my-nb.pct.py`."
            ]
        }
    ],
    "metadata": {
        "jupytext": {
            "cell_metadata_filter": "-all",
            "main_language": "python",
            "notebook_metadata_filter": "-all"
        }
    },
    "nbformat": 4,
    "nbformat_minor": 5
}