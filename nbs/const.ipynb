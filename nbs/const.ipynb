{
    "cells": [
        {
            "cell_type": "markdown",
            "id": "9a3a59ca",
            "metadata": {},
            "source": [
                "# const"
            ]
        },
        {
            "cell_type": "code",
            "execution_count": null,
            "id": "8c2ce0ed",
            "metadata": {},
            "outputs": [],
            "source": [
                "#|default_exp const"
            ]
        },
        {
            "cell_type": "code",
            "execution_count": null,
            "id": "91d0d326",
            "metadata": {},
            "outputs": [],
            "source": [
                "#|hide\n",
                "import nblite; from nbdev.showdoc import show_doc; nblite.nbl_export()"
            ]
        },
        {
            "cell_type": "code",
            "execution_count": null,
            "id": "34787062",
            "metadata": {},
            "outputs": [],
            "source": [
                "#|export\n",
                "from pathlib import Path\n",
                "import add_to_pet as proj"
            ]
        },
        {
            "cell_type": "code",
            "execution_count": null,
            "id": "0a0b142d",
            "metadata": {},
            "outputs": [],
            "source": [
                "#|export\n",
                "root_path = Path(proj.__file__).parent.resolve()\n",
                "store_path = Path(root_path, 'store')\n",
                "caches_path = Path(store_path, 'caches')\n",
                "data_path = Path(store_path, 'data')\n",
                "misc_path = Path(store_path, 'misc')\n",
                "pre_output = Path(store_path, 'pre_output')\n",
                "output_path = Path(store_path, 'output')"
            ]
        },
        {
            "cell_type": "code",
            "execution_count": null,
            "id": "d38e0ed2",
            "metadata": {},
            "outputs": [],
            "source": [
                "#|export\n",
                "store_path.mkdir(parents=True, exist_ok=True)\n",
                "caches_path.mkdir(parents=True, exist_ok=True)\n",
                "data_path.mkdir(parents=True, exist_ok=True)\n",
                "misc_path.mkdir(parents=True, exist_ok=True)\n",
                "pre_output.mkdir(parents=True, exist_ok=True)\n",
                "output_path.mkdir(parents=True, exist_ok=True)"
            ]
        },
        {
            "cell_type": "code",
            "execution_count": null,
            "id": "da020d5c",
            "metadata": {},
            "outputs": [],
            "source": [
                "#|export\n",
                "snippets_path = Path.home() / \".config/pet/snippet.toml\""
            ]
        }
    ],
    "metadata": {
        "jupytext": {
            "cell_metadata_filter": "-all",
            "main_language": "python",
            "notebook_metadata_filter": "-all"
        },
        "kernelspec": {
            "display_name": ".venv",
            "language": "python",
            "name": "python3"
        },
        "language_info": {
            "codemirror_mode": {
                "name": "ipython",
                "version": 3
            },
            "file_extension": ".py",
            "mimetype": "text/x-python",
            "name": "python",
            "nbconvert_exporter": "python",
            "pygments_lexer": "ipython3",
            "version": "3.11.11"
        }
    },
    "nbformat": 4,
    "nbformat_minor": 5
}