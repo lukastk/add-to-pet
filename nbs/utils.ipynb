{
    "cells": [
        {
            "cell_type": "markdown",
            "id": "9274f630",
            "metadata": {},
            "source": [
                "# utils"
            ]
        },
        {
            "cell_type": "code",
            "execution_count": null,
            "id": "5d0bcf6e",
            "metadata": {},
            "outputs": [],
            "source": [
                "#|default_exp utils"
            ]
        },
        {
            "cell_type": "code",
            "execution_count": null,
            "id": "37edf97d",
            "metadata": {},
            "outputs": [],
            "source": [
                "#|hide\n",
                "import nblite; from nbdev.showdoc import show_doc; nblite.nbl_export()"
            ]
        },
        {
            "cell_type": "code",
            "execution_count": null,
            "id": "46d761f2",
            "metadata": {},
            "outputs": [],
            "source": [
                "#|export\n",
                "import add_to_pet as proj\n",
                "from add_to_pet import const"
            ]
        },
        {
            "cell_type": "code",
            "execution_count": null,
            "id": "f7f9641e",
            "metadata": {},
            "outputs": [],
            "source": [
                "#|export\n",
                "def foo():\n",
                "    print(\"Hello\")"
            ]
        }
    ],
    "metadata": {
        "jupytext": {
            "cell_metadata_filter": "-all",
            "main_language": "python",
            "notebook_metadata_filter": "-all"
        }
    },
    "nbformat": 4,
    "nbformat_minor": 5
}