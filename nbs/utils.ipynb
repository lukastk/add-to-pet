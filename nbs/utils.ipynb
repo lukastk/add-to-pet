{
    "cells": [
        {
            "cell_type": "markdown",
            "id": "9274f630",
            "metadata": {},
            "source": [
                "# utils"
            ]
        },
        {
            "cell_type": "code",
            "execution_count": null,
            "id": "5d0bcf6e",
            "metadata": {},
            "outputs": [],
            "source": [
                "#|default_exp utils"
            ]
        },
        {
            "cell_type": "code",
            "execution_count": null,
            "id": "37edf97d",
            "metadata": {},
            "outputs": [],
            "source": [
                "#|hide\n",
                "import nblite; from nbdev.showdoc import show_doc; nblite.nbl_export()"
            ]
        },
        {
            "cell_type": "code",
            "execution_count": null,
            "id": "46d761f2",
            "metadata": {},
            "outputs": [],
            "source": [
                "#|export\n",
                "import add_to_pet as proj\n",
                "from add_to_pet import const"
            ]
        },
        {
            "cell_type": "code",
            "execution_count": null,
            "id": "f7f9641e",
            "metadata": {},
            "outputs": [],
            "source": [
                "#|export\n",
                "def foo():\n",
                "    print(\"Hello\")"
            ]
        }
    ],
    "metadata": {
        "jupytext": {
            "cell_metadata_filter": "-all",
            "main_language": "python",
            "notebook_metadata_filter": "-all"
        },
        "language_info": {
            "codemirror_mode": {
                "name": "ipython",
                "version": 3
            },
            "file_extension": ".py",
            "mimetype": "text/x-python",
            "name": "python",
            "nbconvert_exporter": "python",
            "pygments_lexer": "ipython3",
            "version": "3.11.11"
        },
        "nblite_source_hash": "8b81a1531187ca4d2ab77417a1c4ee26a17a3e4f2311e782b85e605833a5150e"
    },
    "nbformat": 4,
    "nbformat_minor": 5
}