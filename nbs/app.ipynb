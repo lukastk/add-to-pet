{
    "cells": [
        {
            "cell_type": "markdown",
            "id": "6b7db7b7",
            "metadata": {},
            "source": [
                "# app"
            ]
        },
        {
            "cell_type": "code",
            "execution_count": null,
            "id": "505635c5",
            "metadata": {},
            "outputs": [],
            "source": [
                "#|default_exp app"
            ]
        },
        {
            "cell_type": "code",
            "execution_count": null,
            "id": "b856a9e8",
            "metadata": {},
            "outputs": [],
            "source": [
                "#|hide\n",
                "import nblite; from nbdev.showdoc import show_doc; nblite.nbl_export()"
            ]
        },
        {
            "cell_type": "code",
            "execution_count": null,
            "id": "93bf15cd",
            "metadata": {},
            "outputs": [],
            "source": [
                "#|export\n",
                "import typer"
            ]
        },
        {
            "cell_type": "code",
            "execution_count": null,
            "id": "d3436ea9",
            "metadata": {},
            "outputs": [],
            "source": [
                "#|export\n",
                "app = typer.Typer(invoke_without_command=True)"
            ]
        }
    ],
    "metadata": {
        "jupytext": {
            "cell_metadata_filter": "-all",
            "main_language": "python",
            "notebook_metadata_filter": "-all"
        }
    },
    "nbformat": 4,
    "nbformat_minor": 5
}