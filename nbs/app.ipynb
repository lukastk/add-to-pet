{
    "cells": [
        {
            "cell_type": "markdown",
            "id": "6b7db7b7",
            "metadata": {},
            "source": [
                "# app"
            ]
        },
        {
            "cell_type": "code",
            "execution_count": null,
            "id": "505635c5",
            "metadata": {},
            "outputs": [],
            "source": [
                "#|default_exp app"
            ]
        },
        {
            "cell_type": "code",
            "execution_count": null,
            "id": "b856a9e8",
            "metadata": {},
            "outputs": [],
            "source": [
                "#|hide\n",
                "import nblite; from nbdev.showdoc import show_doc; nblite.nbl_export()"
            ]
        },
        {
            "cell_type": "code",
            "execution_count": null,
            "id": "93bf15cd",
            "metadata": {},
            "outputs": [],
            "source": [
                "#|export\n",
                "import typer"
            ]
        },
        {
            "cell_type": "code",
            "execution_count": null,
            "id": "d3436ea9",
            "metadata": {},
            "outputs": [],
            "source": [
                "#|export\n",
                "app = typer.Typer(invoke_without_command=True)"
            ]
        }
    ],
    "metadata": {
        "jupytext": {
            "cell_metadata_filter": "-all",
            "main_language": "python",
            "notebook_metadata_filter": "-all"
        },
        "language_info": {
            "codemirror_mode": {
                "name": "ipython",
                "version": 3
            },
            "file_extension": ".py",
            "mimetype": "text/x-python",
            "name": "python",
            "nbconvert_exporter": "python",
            "pygments_lexer": "ipython3",
            "version": "3.11.11"
        },
        "nblite_source_hash": "79932819c50c4380c8510dc32fd68d32269694bc804f2d2b54bdb7bc84763079"
    },
    "nbformat": 4,
    "nbformat_minor": 5
}