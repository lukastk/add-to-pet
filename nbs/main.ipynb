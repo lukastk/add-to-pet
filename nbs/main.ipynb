{
    "cells": [
        {
            "cell_type": "markdown",
            "id": "7e026fba",
            "metadata": {},
            "source": [
                "# main"
            ]
        },
        {
            "cell_type": "code",
            "execution_count": null,
            "id": "60ce02e0",
            "metadata": {},
            "outputs": [],
            "source": [
                "#|default_exp main\n",
                "#|export_as_func true"
            ]
        },
        {
            "cell_type": "code",
            "execution_count": null,
            "id": "c45761bc",
            "metadata": {},
            "outputs": [],
            "source": [
                "#|hide\n",
                "import nblite; from nbdev.showdoc import show_doc; nblite.nbl_export()"
            ]
        },
        {
            "cell_type": "code",
            "execution_count": null,
            "id": "aa678b43",
            "metadata": {},
            "outputs": [],
            "source": [
                "#|top_export\n",
                "import typer\n",
                "from typer import Argument, Option\n",
                "from typing_extensions import Annotated\n",
                "from pathlib import Path\n",
                "import toml\n",
                "import json\n",
                "\n",
                "from add_to_pet import const\n",
                "from add_to_pet.app import app"
            ]
        },
        {
            "cell_type": "code",
            "execution_count": null,
            "id": "b00b751a",
            "metadata": {},
            "outputs": [],
            "source": [
                "#|set_func_signature\n",
                "@app.command()\n",
                "def add_to_pet(\n",
                "    cmd: Annotated[str, Argument(help=\"The command to add to pet.\")],\n",
                "    description: Annotated[str, Option(\"-d\", \"--description\", help=\"The description of the command.\")] = \"\",\n",
                "    output: Annotated[str, Option(\"-o\", \"--output\", help=\"The output of the command.\")] = \"\",\n",
                "    tags: Annotated[list[str], Option(\"-t\", \"--tags\", help=\"The tags of the command.\")] = [],\n",
                "    snippets_path: Annotated[str|None, Option(\"-p\", \"--snippets-path\", help=\"Path to the snippets file.\")] = None,\n",
                "): ..."
            ]
        },
        {
            "cell_type": "code",
            "execution_count": null,
            "id": "7e480a61",
            "metadata": {},
            "outputs": [],
            "source": [
                "cmd = \"ls -l\"\n",
                "description = \"List the contents of the current directory in long format\"\n",
                "output = \"\"\n",
                "tags = [\"list\", \"directory\"]\n",
                "snippets_path = \"./test_snippet.toml\""
            ]
        },
        {
            "cell_type": "code",
            "execution_count": null,
            "id": "59f9df56",
            "metadata": {},
            "outputs": [],
            "source": [
                "#|export\n",
                "snippet = {\n",
                "    \"command\": cmd,\n",
                "    \"Description\": description,\n",
                "    \"Output\": output,\n",
                "    \"Tag\": tags,\n",
                "}"
            ]
        },
        {
            "cell_type": "code",
            "execution_count": null,
            "id": "6fce15a0",
            "metadata": {},
            "outputs": [],
            "source": [
                "#|export\n",
                "snippets_path = const.snippets_path if snippets_path is None else Path(snippets_path)\n",
                "snippets_data = toml.loads(open(snippets_path).read())\n",
                "duplicate_snippets = [i for i, s in enumerate(snippets_data[\"Snippets\"]) if s[\"command\"] == cmd]\n",
                "\n",
                "if len(duplicate_snippets) == 1:\n",
                "    snippet_index = duplicate_snippets[0]\n",
                "    snippets_data[\"Snippets\"][snippet_index] = snippet\n",
                "elif len(duplicate_snippets) > 1:\n",
                "    raise ValueError(f\"Found {len(duplicate_snippets)} duplicate snippets for command {cmd}. Maximum number of duplicates allowed is 1.\")\n",
                "else:\n",
                "    snippets_data[\"Snippets\"].append(snippet)\n",
                "\n",
                "with open(snippets_path, \"w\") as f:\n",
                "    f.write(toml.dumps(snippets_data))"
            ]
        }
    ],
    "metadata": {
        "jupytext": {
            "cell_metadata_filter": "-all",
            "main_language": "python",
            "notebook_metadata_filter": "-all"
        },
        "kernelspec": {
            "display_name": ".venv",
            "language": "python",
            "name": "python3"
        },
        "language_info": {
            "codemirror_mode": {
                "name": "ipython",
                "version": 3
            },
            "file_extension": ".py",
            "mimetype": "text/x-python",
            "name": "python",
            "nbconvert_exporter": "python",
            "pygments_lexer": "ipython3",
            "version": "3.11.11"
        }
    },
    "nbformat": 4,
    "nbformat_minor": 5
}